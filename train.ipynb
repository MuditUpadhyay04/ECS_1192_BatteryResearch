{
 "cells": [
  {
   "cell_type": "markdown",
   "metadata": {},
   "source": []
  },
  {
   "cell_type": "code",
   "execution_count": 15,
   "metadata": {},
   "outputs": [
    {
     "name": "stdout",
     "output_type": "stream",
     "text": [
      "Standardized and saved: battery/SNL_LFP\\SNL_18650_LFP_15C_0-100_0.5-1C_a_cycle_data_cleaned.csv\n"
     ]
    },
    {
     "ename": "KeyboardInterrupt",
     "evalue": "",
     "output_type": "error",
     "traceback": [
      "\u001b[31m---------------------------------------------------------------------------\u001b[39m",
      "\u001b[31mKeyboardInterrupt\u001b[39m                         Traceback (most recent call last)",
      "\u001b[36mCell\u001b[39m\u001b[36m \u001b[39m\u001b[32mIn[15]\u001b[39m\u001b[32m, line 39\u001b[39m\n\u001b[32m     37\u001b[39m \u001b[38;5;66;03m# Save the cleaned file\u001b[39;00m\n\u001b[32m     38\u001b[39m cleaned_path = file_path.replace(\u001b[33m\"\u001b[39m\u001b[33m.csv\u001b[39m\u001b[33m\"\u001b[39m, \u001b[33m\"\u001b[39m\u001b[33m_cleaned.csv\u001b[39m\u001b[33m\"\u001b[39m)\n\u001b[32m---> \u001b[39m\u001b[32m39\u001b[39m \u001b[43mdf\u001b[49m\u001b[43m.\u001b[49m\u001b[43mto_csv\u001b[49m\u001b[43m(\u001b[49m\u001b[43mcleaned_path\u001b[49m\u001b[43m,\u001b[49m\u001b[43m \u001b[49m\u001b[43mindex\u001b[49m\u001b[43m=\u001b[49m\u001b[38;5;28;43;01mFalse\u001b[39;49;00m\u001b[43m)\u001b[49m\n\u001b[32m     40\u001b[39m \u001b[38;5;28mprint\u001b[39m(\u001b[33mf\u001b[39m\u001b[33m\"\u001b[39m\u001b[33mStandardized and saved: \u001b[39m\u001b[38;5;132;01m{\u001b[39;00mcleaned_path\u001b[38;5;132;01m}\u001b[39;00m\u001b[33m\"\u001b[39m)\n",
      "\u001b[36mFile \u001b[39m\u001b[32mc:\\Users\\mudit\\dev\\School\\ECS_1192_BatteryResearch\\Research\\Lib\\site-packages\\pandas\\util\\_decorators.py:333\u001b[39m, in \u001b[36mdeprecate_nonkeyword_arguments.<locals>.decorate.<locals>.wrapper\u001b[39m\u001b[34m(*args, **kwargs)\u001b[39m\n\u001b[32m    327\u001b[39m \u001b[38;5;28;01mif\u001b[39;00m \u001b[38;5;28mlen\u001b[39m(args) > num_allow_args:\n\u001b[32m    328\u001b[39m     warnings.warn(\n\u001b[32m    329\u001b[39m         msg.format(arguments=_format_argument_list(allow_args)),\n\u001b[32m    330\u001b[39m         \u001b[38;5;167;01mFutureWarning\u001b[39;00m,\n\u001b[32m    331\u001b[39m         stacklevel=find_stack_level(),\n\u001b[32m    332\u001b[39m     )\n\u001b[32m--> \u001b[39m\u001b[32m333\u001b[39m \u001b[38;5;28;01mreturn\u001b[39;00m \u001b[43mfunc\u001b[49m\u001b[43m(\u001b[49m\u001b[43m*\u001b[49m\u001b[43margs\u001b[49m\u001b[43m,\u001b[49m\u001b[43m \u001b[49m\u001b[43m*\u001b[49m\u001b[43m*\u001b[49m\u001b[43mkwargs\u001b[49m\u001b[43m)\u001b[49m\n",
      "\u001b[36mFile \u001b[39m\u001b[32mc:\\Users\\mudit\\dev\\School\\ECS_1192_BatteryResearch\\Research\\Lib\\site-packages\\pandas\\core\\generic.py:3967\u001b[39m, in \u001b[36mNDFrame.to_csv\u001b[39m\u001b[34m(self, path_or_buf, sep, na_rep, float_format, columns, header, index, index_label, mode, encoding, compression, quoting, quotechar, lineterminator, chunksize, date_format, doublequote, escapechar, decimal, errors, storage_options)\u001b[39m\n\u001b[32m   3956\u001b[39m df = \u001b[38;5;28mself\u001b[39m \u001b[38;5;28;01mif\u001b[39;00m \u001b[38;5;28misinstance\u001b[39m(\u001b[38;5;28mself\u001b[39m, ABCDataFrame) \u001b[38;5;28;01melse\u001b[39;00m \u001b[38;5;28mself\u001b[39m.to_frame()\n\u001b[32m   3958\u001b[39m formatter = DataFrameFormatter(\n\u001b[32m   3959\u001b[39m     frame=df,\n\u001b[32m   3960\u001b[39m     header=header,\n\u001b[32m   (...)\u001b[39m\u001b[32m   3964\u001b[39m     decimal=decimal,\n\u001b[32m   3965\u001b[39m )\n\u001b[32m-> \u001b[39m\u001b[32m3967\u001b[39m \u001b[38;5;28;01mreturn\u001b[39;00m \u001b[43mDataFrameRenderer\u001b[49m\u001b[43m(\u001b[49m\u001b[43mformatter\u001b[49m\u001b[43m)\u001b[49m\u001b[43m.\u001b[49m\u001b[43mto_csv\u001b[49m\u001b[43m(\u001b[49m\n\u001b[32m   3968\u001b[39m \u001b[43m    \u001b[49m\u001b[43mpath_or_buf\u001b[49m\u001b[43m,\u001b[49m\n\u001b[32m   3969\u001b[39m \u001b[43m    \u001b[49m\u001b[43mlineterminator\u001b[49m\u001b[43m=\u001b[49m\u001b[43mlineterminator\u001b[49m\u001b[43m,\u001b[49m\n\u001b[32m   3970\u001b[39m \u001b[43m    \u001b[49m\u001b[43msep\u001b[49m\u001b[43m=\u001b[49m\u001b[43msep\u001b[49m\u001b[43m,\u001b[49m\n\u001b[32m   3971\u001b[39m \u001b[43m    \u001b[49m\u001b[43mencoding\u001b[49m\u001b[43m=\u001b[49m\u001b[43mencoding\u001b[49m\u001b[43m,\u001b[49m\n\u001b[32m   3972\u001b[39m \u001b[43m    \u001b[49m\u001b[43merrors\u001b[49m\u001b[43m=\u001b[49m\u001b[43merrors\u001b[49m\u001b[43m,\u001b[49m\n\u001b[32m   3973\u001b[39m \u001b[43m    \u001b[49m\u001b[43mcompression\u001b[49m\u001b[43m=\u001b[49m\u001b[43mcompression\u001b[49m\u001b[43m,\u001b[49m\n\u001b[32m   3974\u001b[39m \u001b[43m    \u001b[49m\u001b[43mquoting\u001b[49m\u001b[43m=\u001b[49m\u001b[43mquoting\u001b[49m\u001b[43m,\u001b[49m\n\u001b[32m   3975\u001b[39m \u001b[43m    \u001b[49m\u001b[43mcolumns\u001b[49m\u001b[43m=\u001b[49m\u001b[43mcolumns\u001b[49m\u001b[43m,\u001b[49m\n\u001b[32m   3976\u001b[39m \u001b[43m    \u001b[49m\u001b[43mindex_label\u001b[49m\u001b[43m=\u001b[49m\u001b[43mindex_label\u001b[49m\u001b[43m,\u001b[49m\n\u001b[32m   3977\u001b[39m \u001b[43m    \u001b[49m\u001b[43mmode\u001b[49m\u001b[43m=\u001b[49m\u001b[43mmode\u001b[49m\u001b[43m,\u001b[49m\n\u001b[32m   3978\u001b[39m \u001b[43m    \u001b[49m\u001b[43mchunksize\u001b[49m\u001b[43m=\u001b[49m\u001b[43mchunksize\u001b[49m\u001b[43m,\u001b[49m\n\u001b[32m   3979\u001b[39m \u001b[43m    \u001b[49m\u001b[43mquotechar\u001b[49m\u001b[43m=\u001b[49m\u001b[43mquotechar\u001b[49m\u001b[43m,\u001b[49m\n\u001b[32m   3980\u001b[39m \u001b[43m    \u001b[49m\u001b[43mdate_format\u001b[49m\u001b[43m=\u001b[49m\u001b[43mdate_format\u001b[49m\u001b[43m,\u001b[49m\n\u001b[32m   3981\u001b[39m \u001b[43m    \u001b[49m\u001b[43mdoublequote\u001b[49m\u001b[43m=\u001b[49m\u001b[43mdoublequote\u001b[49m\u001b[43m,\u001b[49m\n\u001b[32m   3982\u001b[39m \u001b[43m    \u001b[49m\u001b[43mescapechar\u001b[49m\u001b[43m=\u001b[49m\u001b[43mescapechar\u001b[49m\u001b[43m,\u001b[49m\n\u001b[32m   3983\u001b[39m \u001b[43m    \u001b[49m\u001b[43mstorage_options\u001b[49m\u001b[43m=\u001b[49m\u001b[43mstorage_options\u001b[49m\u001b[43m,\u001b[49m\n\u001b[32m   3984\u001b[39m \u001b[43m\u001b[49m\u001b[43m)\u001b[49m\n",
      "\u001b[36mFile \u001b[39m\u001b[32mc:\\Users\\mudit\\dev\\School\\ECS_1192_BatteryResearch\\Research\\Lib\\site-packages\\pandas\\io\\formats\\format.py:1014\u001b[39m, in \u001b[36mDataFrameRenderer.to_csv\u001b[39m\u001b[34m(self, path_or_buf, encoding, sep, columns, index_label, mode, compression, quoting, quotechar, lineterminator, chunksize, date_format, doublequote, escapechar, errors, storage_options)\u001b[39m\n\u001b[32m    993\u001b[39m     created_buffer = \u001b[38;5;28;01mFalse\u001b[39;00m\n\u001b[32m    995\u001b[39m csv_formatter = CSVFormatter(\n\u001b[32m    996\u001b[39m     path_or_buf=path_or_buf,\n\u001b[32m    997\u001b[39m     lineterminator=lineterminator,\n\u001b[32m   (...)\u001b[39m\u001b[32m   1012\u001b[39m     formatter=\u001b[38;5;28mself\u001b[39m.fmt,\n\u001b[32m   1013\u001b[39m )\n\u001b[32m-> \u001b[39m\u001b[32m1014\u001b[39m \u001b[43mcsv_formatter\u001b[49m\u001b[43m.\u001b[49m\u001b[43msave\u001b[49m\u001b[43m(\u001b[49m\u001b[43m)\u001b[49m\n\u001b[32m   1016\u001b[39m \u001b[38;5;28;01mif\u001b[39;00m created_buffer:\n\u001b[32m   1017\u001b[39m     \u001b[38;5;28;01massert\u001b[39;00m \u001b[38;5;28misinstance\u001b[39m(path_or_buf, StringIO)\n",
      "\u001b[36mFile \u001b[39m\u001b[32mc:\\Users\\mudit\\dev\\School\\ECS_1192_BatteryResearch\\Research\\Lib\\site-packages\\pandas\\io\\formats\\csvs.py:270\u001b[39m, in \u001b[36mCSVFormatter.save\u001b[39m\u001b[34m(self)\u001b[39m\n\u001b[32m    251\u001b[39m \u001b[38;5;28;01mwith\u001b[39;00m get_handle(\n\u001b[32m    252\u001b[39m     \u001b[38;5;28mself\u001b[39m.filepath_or_buffer,\n\u001b[32m    253\u001b[39m     \u001b[38;5;28mself\u001b[39m.mode,\n\u001b[32m   (...)\u001b[39m\u001b[32m    258\u001b[39m ) \u001b[38;5;28;01mas\u001b[39;00m handles:\n\u001b[32m    259\u001b[39m     \u001b[38;5;66;03m# Note: self.encoding is irrelevant here\u001b[39;00m\n\u001b[32m    260\u001b[39m     \u001b[38;5;28mself\u001b[39m.writer = csvlib.writer(\n\u001b[32m    261\u001b[39m         handles.handle,\n\u001b[32m    262\u001b[39m         lineterminator=\u001b[38;5;28mself\u001b[39m.lineterminator,\n\u001b[32m   (...)\u001b[39m\u001b[32m    267\u001b[39m         quotechar=\u001b[38;5;28mself\u001b[39m.quotechar,\n\u001b[32m    268\u001b[39m     )\n\u001b[32m--> \u001b[39m\u001b[32m270\u001b[39m     \u001b[38;5;28;43mself\u001b[39;49m\u001b[43m.\u001b[49m\u001b[43m_save\u001b[49m\u001b[43m(\u001b[49m\u001b[43m)\u001b[49m\n",
      "\u001b[36mFile \u001b[39m\u001b[32mc:\\Users\\mudit\\dev\\School\\ECS_1192_BatteryResearch\\Research\\Lib\\site-packages\\pandas\\io\\formats\\csvs.py:275\u001b[39m, in \u001b[36mCSVFormatter._save\u001b[39m\u001b[34m(self)\u001b[39m\n\u001b[32m    273\u001b[39m \u001b[38;5;28;01mif\u001b[39;00m \u001b[38;5;28mself\u001b[39m._need_to_save_header:\n\u001b[32m    274\u001b[39m     \u001b[38;5;28mself\u001b[39m._save_header()\n\u001b[32m--> \u001b[39m\u001b[32m275\u001b[39m \u001b[38;5;28;43mself\u001b[39;49m\u001b[43m.\u001b[49m\u001b[43m_save_body\u001b[49m\u001b[43m(\u001b[49m\u001b[43m)\u001b[49m\n",
      "\u001b[36mFile \u001b[39m\u001b[32mc:\\Users\\mudit\\dev\\School\\ECS_1192_BatteryResearch\\Research\\Lib\\site-packages\\pandas\\io\\formats\\csvs.py:313\u001b[39m, in \u001b[36mCSVFormatter._save_body\u001b[39m\u001b[34m(self)\u001b[39m\n\u001b[32m    311\u001b[39m \u001b[38;5;28;01mif\u001b[39;00m start_i >= end_i:\n\u001b[32m    312\u001b[39m     \u001b[38;5;28;01mbreak\u001b[39;00m\n\u001b[32m--> \u001b[39m\u001b[32m313\u001b[39m \u001b[38;5;28;43mself\u001b[39;49m\u001b[43m.\u001b[49m\u001b[43m_save_chunk\u001b[49m\u001b[43m(\u001b[49m\u001b[43mstart_i\u001b[49m\u001b[43m,\u001b[49m\u001b[43m \u001b[49m\u001b[43mend_i\u001b[49m\u001b[43m)\u001b[49m\n",
      "\u001b[36mFile \u001b[39m\u001b[32mc:\\Users\\mudit\\dev\\School\\ECS_1192_BatteryResearch\\Research\\Lib\\site-packages\\pandas\\io\\formats\\csvs.py:320\u001b[39m, in \u001b[36mCSVFormatter._save_chunk\u001b[39m\u001b[34m(self, start_i, end_i)\u001b[39m\n\u001b[32m    317\u001b[39m slicer = \u001b[38;5;28mslice\u001b[39m(start_i, end_i)\n\u001b[32m    318\u001b[39m df = \u001b[38;5;28mself\u001b[39m.obj.iloc[slicer]\n\u001b[32m--> \u001b[39m\u001b[32m320\u001b[39m res = \u001b[43mdf\u001b[49m\u001b[43m.\u001b[49m\u001b[43m_get_values_for_csv\u001b[49m\u001b[43m(\u001b[49m\u001b[43m*\u001b[49m\u001b[43m*\u001b[49m\u001b[38;5;28;43mself\u001b[39;49m\u001b[43m.\u001b[49m\u001b[43m_number_format\u001b[49m\u001b[43m)\u001b[49m\n\u001b[32m    321\u001b[39m data = \u001b[38;5;28mlist\u001b[39m(res._iter_column_arrays())\n\u001b[32m    323\u001b[39m ix = \u001b[38;5;28mself\u001b[39m.data_index[slicer]._get_values_for_csv(**\u001b[38;5;28mself\u001b[39m._number_format)\n",
      "\u001b[36mFile \u001b[39m\u001b[32mc:\\Users\\mudit\\dev\\School\\ECS_1192_BatteryResearch\\Research\\Lib\\site-packages\\pandas\\core\\frame.py:1410\u001b[39m, in \u001b[36mDataFrame._get_values_for_csv\u001b[39m\u001b[34m(self, float_format, date_format, decimal, na_rep, quoting)\u001b[39m\n\u001b[32m   1400\u001b[39m \u001b[38;5;28;01mdef\u001b[39;00m\u001b[38;5;250m \u001b[39m\u001b[34m_get_values_for_csv\u001b[39m(\n\u001b[32m   1401\u001b[39m     \u001b[38;5;28mself\u001b[39m,\n\u001b[32m   1402\u001b[39m     *,\n\u001b[32m   (...)\u001b[39m\u001b[32m   1408\u001b[39m ) -> Self:\n\u001b[32m   1409\u001b[39m     \u001b[38;5;66;03m# helper used by to_csv\u001b[39;00m\n\u001b[32m-> \u001b[39m\u001b[32m1410\u001b[39m     mgr = \u001b[38;5;28;43mself\u001b[39;49m\u001b[43m.\u001b[49m\u001b[43m_mgr\u001b[49m\u001b[43m.\u001b[49m\u001b[43mget_values_for_csv\u001b[49m\u001b[43m(\u001b[49m\n\u001b[32m   1411\u001b[39m \u001b[43m        \u001b[49m\u001b[43mfloat_format\u001b[49m\u001b[43m=\u001b[49m\u001b[43mfloat_format\u001b[49m\u001b[43m,\u001b[49m\n\u001b[32m   1412\u001b[39m \u001b[43m        \u001b[49m\u001b[43mdate_format\u001b[49m\u001b[43m=\u001b[49m\u001b[43mdate_format\u001b[49m\u001b[43m,\u001b[49m\n\u001b[32m   1413\u001b[39m \u001b[43m        \u001b[49m\u001b[43mdecimal\u001b[49m\u001b[43m=\u001b[49m\u001b[43mdecimal\u001b[49m\u001b[43m,\u001b[49m\n\u001b[32m   1414\u001b[39m \u001b[43m        \u001b[49m\u001b[43mna_rep\u001b[49m\u001b[43m=\u001b[49m\u001b[43mna_rep\u001b[49m\u001b[43m,\u001b[49m\n\u001b[32m   1415\u001b[39m \u001b[43m        \u001b[49m\u001b[43mquoting\u001b[49m\u001b[43m=\u001b[49m\u001b[43mquoting\u001b[49m\u001b[43m,\u001b[49m\n\u001b[32m   1416\u001b[39m \u001b[43m    \u001b[49m\u001b[43m)\u001b[49m\n\u001b[32m   1417\u001b[39m     \u001b[38;5;66;03m# error: Incompatible return value type (got \"DataFrame\", expected \"Self\")\u001b[39;00m\n\u001b[32m   1418\u001b[39m     \u001b[38;5;28;01mreturn\u001b[39;00m \u001b[38;5;28mself\u001b[39m._constructor_from_mgr(mgr, axes=mgr.axes)\n",
      "\u001b[36mFile \u001b[39m\u001b[32mc:\\Users\\mudit\\dev\\School\\ECS_1192_BatteryResearch\\Research\\Lib\\site-packages\\pandas\\core\\internals\\managers.py:466\u001b[39m, in \u001b[36mBaseBlockManager.get_values_for_csv\u001b[39m\u001b[34m(self, float_format, date_format, decimal, na_rep, quoting)\u001b[39m\n\u001b[32m    459\u001b[39m \u001b[38;5;28;01mdef\u001b[39;00m\u001b[38;5;250m \u001b[39m\u001b[34mget_values_for_csv\u001b[39m(\n\u001b[32m    460\u001b[39m     \u001b[38;5;28mself\u001b[39m, *, float_format, date_format, decimal, na_rep: \u001b[38;5;28mstr\u001b[39m = \u001b[33m\"\u001b[39m\u001b[33mnan\u001b[39m\u001b[33m\"\u001b[39m, quoting=\u001b[38;5;28;01mNone\u001b[39;00m\n\u001b[32m    461\u001b[39m ) -> Self:\n\u001b[32m    462\u001b[39m \u001b[38;5;250m    \u001b[39m\u001b[33;03m\"\"\"\u001b[39;00m\n\u001b[32m    463\u001b[39m \u001b[33;03m    Convert values to native types (strings / python objects) that are used\u001b[39;00m\n\u001b[32m    464\u001b[39m \u001b[33;03m    in formatting (repr / csv).\u001b[39;00m\n\u001b[32m    465\u001b[39m \u001b[33;03m    \"\"\"\u001b[39;00m\n\u001b[32m--> \u001b[39m\u001b[32m466\u001b[39m     \u001b[38;5;28;01mreturn\u001b[39;00m \u001b[38;5;28;43mself\u001b[39;49m\u001b[43m.\u001b[49m\u001b[43mapply\u001b[49m\u001b[43m(\u001b[49m\n\u001b[32m    467\u001b[39m \u001b[43m        \u001b[49m\u001b[33;43m\"\u001b[39;49m\u001b[33;43mget_values_for_csv\u001b[39;49m\u001b[33;43m\"\u001b[39;49m\u001b[43m,\u001b[49m\n\u001b[32m    468\u001b[39m \u001b[43m        \u001b[49m\u001b[43mna_rep\u001b[49m\u001b[43m=\u001b[49m\u001b[43mna_rep\u001b[49m\u001b[43m,\u001b[49m\n\u001b[32m    469\u001b[39m \u001b[43m        \u001b[49m\u001b[43mquoting\u001b[49m\u001b[43m=\u001b[49m\u001b[43mquoting\u001b[49m\u001b[43m,\u001b[49m\n\u001b[32m    470\u001b[39m \u001b[43m        \u001b[49m\u001b[43mfloat_format\u001b[49m\u001b[43m=\u001b[49m\u001b[43mfloat_format\u001b[49m\u001b[43m,\u001b[49m\n\u001b[32m    471\u001b[39m \u001b[43m        \u001b[49m\u001b[43mdate_format\u001b[49m\u001b[43m=\u001b[49m\u001b[43mdate_format\u001b[49m\u001b[43m,\u001b[49m\n\u001b[32m    472\u001b[39m \u001b[43m        \u001b[49m\u001b[43mdecimal\u001b[49m\u001b[43m=\u001b[49m\u001b[43mdecimal\u001b[49m\u001b[43m,\u001b[49m\n\u001b[32m    473\u001b[39m \u001b[43m    \u001b[49m\u001b[43m)\u001b[49m\n",
      "\u001b[36mFile \u001b[39m\u001b[32mc:\\Users\\mudit\\dev\\School\\ECS_1192_BatteryResearch\\Research\\Lib\\site-packages\\pandas\\core\\internals\\managers.py:363\u001b[39m, in \u001b[36mBaseBlockManager.apply\u001b[39m\u001b[34m(self, f, align_keys, **kwargs)\u001b[39m\n\u001b[32m    361\u001b[39m         applied = b.apply(f, **kwargs)\n\u001b[32m    362\u001b[39m     \u001b[38;5;28;01melse\u001b[39;00m:\n\u001b[32m--> \u001b[39m\u001b[32m363\u001b[39m         applied = \u001b[38;5;28;43mgetattr\u001b[39;49m\u001b[43m(\u001b[49m\u001b[43mb\u001b[49m\u001b[43m,\u001b[49m\u001b[43m \u001b[49m\u001b[43mf\u001b[49m\u001b[43m)\u001b[49m\u001b[43m(\u001b[49m\u001b[43m*\u001b[49m\u001b[43m*\u001b[49m\u001b[43mkwargs\u001b[49m\u001b[43m)\u001b[49m\n\u001b[32m    364\u001b[39m     result_blocks = extend_blocks(applied, result_blocks)\n\u001b[32m    366\u001b[39m out = \u001b[38;5;28mtype\u001b[39m(\u001b[38;5;28mself\u001b[39m).from_blocks(result_blocks, \u001b[38;5;28mself\u001b[39m.axes)\n",
      "\u001b[36mFile \u001b[39m\u001b[32mc:\\Users\\mudit\\dev\\School\\ECS_1192_BatteryResearch\\Research\\Lib\\site-packages\\pandas\\core\\internals\\blocks.py:780\u001b[39m, in \u001b[36mBlock.get_values_for_csv\u001b[39m\u001b[34m(self, float_format, date_format, decimal, na_rep, quoting)\u001b[39m\n\u001b[32m    775\u001b[39m \u001b[38;5;129m@final\u001b[39m\n\u001b[32m    776\u001b[39m \u001b[38;5;28;01mdef\u001b[39;00m\u001b[38;5;250m \u001b[39m\u001b[34mget_values_for_csv\u001b[39m(\n\u001b[32m    777\u001b[39m     \u001b[38;5;28mself\u001b[39m, *, float_format, date_format, decimal, na_rep: \u001b[38;5;28mstr\u001b[39m = \u001b[33m\"\u001b[39m\u001b[33mnan\u001b[39m\u001b[33m\"\u001b[39m, quoting=\u001b[38;5;28;01mNone\u001b[39;00m\n\u001b[32m    778\u001b[39m ) -> Block:\n\u001b[32m    779\u001b[39m \u001b[38;5;250m    \u001b[39m\u001b[33;03m\"\"\"convert to our native types format\"\"\"\u001b[39;00m\n\u001b[32m--> \u001b[39m\u001b[32m780\u001b[39m     result = \u001b[43mget_values_for_csv\u001b[49m\u001b[43m(\u001b[49m\n\u001b[32m    781\u001b[39m \u001b[43m        \u001b[49m\u001b[38;5;28;43mself\u001b[39;49m\u001b[43m.\u001b[49m\u001b[43mvalues\u001b[49m\u001b[43m,\u001b[49m\n\u001b[32m    782\u001b[39m \u001b[43m        \u001b[49m\u001b[43mna_rep\u001b[49m\u001b[43m=\u001b[49m\u001b[43mna_rep\u001b[49m\u001b[43m,\u001b[49m\n\u001b[32m    783\u001b[39m \u001b[43m        \u001b[49m\u001b[43mquoting\u001b[49m\u001b[43m=\u001b[49m\u001b[43mquoting\u001b[49m\u001b[43m,\u001b[49m\n\u001b[32m    784\u001b[39m \u001b[43m        \u001b[49m\u001b[43mfloat_format\u001b[49m\u001b[43m=\u001b[49m\u001b[43mfloat_format\u001b[49m\u001b[43m,\u001b[49m\n\u001b[32m    785\u001b[39m \u001b[43m        \u001b[49m\u001b[43mdate_format\u001b[49m\u001b[43m=\u001b[49m\u001b[43mdate_format\u001b[49m\u001b[43m,\u001b[49m\n\u001b[32m    786\u001b[39m \u001b[43m        \u001b[49m\u001b[43mdecimal\u001b[49m\u001b[43m=\u001b[49m\u001b[43mdecimal\u001b[49m\u001b[43m,\u001b[49m\n\u001b[32m    787\u001b[39m \u001b[43m    \u001b[49m\u001b[43m)\u001b[49m\n\u001b[32m    788\u001b[39m     \u001b[38;5;28;01mreturn\u001b[39;00m \u001b[38;5;28mself\u001b[39m.make_block(result)\n",
      "\u001b[36mFile \u001b[39m\u001b[32mc:\\Users\\mudit\\dev\\School\\ECS_1192_BatteryResearch\\Research\\Lib\\site-packages\\pandas\\core\\indexes\\base.py:7838\u001b[39m, in \u001b[36mget_values_for_csv\u001b[39m\u001b[34m(values, date_format, na_rep, quoting, float_format, decimal)\u001b[39m\n\u001b[32m   7835\u001b[39m \u001b[38;5;28;01melse\u001b[39;00m:\n\u001b[32m   7836\u001b[39m     values = np.array(values, dtype=\u001b[33m\"\u001b[39m\u001b[33mobject\u001b[39m\u001b[33m\"\u001b[39m)\n\u001b[32m-> \u001b[39m\u001b[32m7838\u001b[39m \u001b[43mvalues\u001b[49m\u001b[43m[\u001b[49m\u001b[43mmask\u001b[49m\u001b[43m]\u001b[49m = na_rep\n\u001b[32m   7839\u001b[39m values = values.astype(\u001b[38;5;28mobject\u001b[39m, copy=\u001b[38;5;28;01mFalse\u001b[39;00m)\n\u001b[32m   7840\u001b[39m \u001b[38;5;28;01mreturn\u001b[39;00m values\n",
      "\u001b[31mKeyboardInterrupt\u001b[39m: "
     ]
    }
   ],
   "source": [
    "import pandas as pd\n",
    "import os\n",
    "#Fix the columns\n",
    "COLUMN_MAPPING = {\n",
    "    \"Cycle_Index\": [\"Cycle_Index\", \"cycle_index\", \"Cycle\"],\n",
    "    \"Discharge_Capacity (Ah)\": [\"Discharge_Capacity (Ah)\", \"Discharge_Capacity_Ah_\", \"Capacity\"],\n",
    "    \"Test_Time (s)\": [\"Test_Time (s)\", \"test_time_s\", \"Time\"],\n",
    "    \"Current (A)\": [\"Current (A)\", \"current_a\", \"I\"],\n",
    "    \"Voltage (V)\": [\"Voltage (V)\", \"voltage_v\", \"V\"],\n",
    "    \"Cell_Temperature (C)\": [\"Cell_Temperature (C)\", \"cell_temperature_c\", \"Temp\"],\n",
    "}\n",
    "\n",
    "\n",
    "def standardize_columns(df):\n",
    "    new_columns = {}\n",
    "    \n",
    "    for standard_col, variations in COLUMN_MAPPING.items():\n",
    "        for var in variations:\n",
    "            if var in df.columns:\n",
    "                new_columns[var] = standard_col  \n",
    "\n",
    "    df = df.rename(columns=new_columns)  \n",
    "    return df\n",
    "\n",
    "# Folder where CSVs are stored\n",
    "folder_path = \"battery/SNL_LFP\"\n",
    "\n",
    "# List all CSV files in the folder\n",
    "csv_files = [f for f in os.listdir(folder_path) if f.endswith(\".csv\")]\n",
    "\n",
    "for file in csv_files:\n",
    "    file_path = os.path.join(folder_path, file)\n",
    "    df = pd.read_csv(file_path)\n",
    "    \n",
    "    df = standardize_columns(df)  # Apply standardization\n",
    "    \n",
    "    # Save the cleaned file\n",
    "    cleaned_path = file_path.replace(\".csv\", \"_cleaned.csv\")\n",
    "    df.to_csv(cleaned_path, index=False)\n",
    "    print(f\"Standardized and saved: {cleaned_path}\")\n"
   ]
  },
  {
   "cell_type": "code",
   "execution_count": null,
   "metadata": {},
   "outputs": [],
   "source": []
  },
  {
   "cell_type": "code",
   "execution_count": 10,
   "metadata": {},
   "outputs": [
    {
     "name": "stdout",
     "output_type": "stream",
     "text": [
      "Converted battery/SNL_LFP\\SNL_18650_LFP_15C_0-100_0.5-1C_a_cycle_data.csv -> battery_mat/updated_dataset\\SNL_18650_LFP_15C_0-100_0.5-1C_a_cycle_data.mat\n"
     ]
    },
    {
     "ename": "KeyboardInterrupt",
     "evalue": "",
     "output_type": "error",
     "traceback": [
      "\u001b[31m---------------------------------------------------------------------------\u001b[39m",
      "\u001b[31mKeyboardInterrupt\u001b[39m                         Traceback (most recent call last)",
      "\u001b[36mCell\u001b[39m\u001b[36m \u001b[39m\u001b[32mIn[10]\u001b[39m\u001b[32m, line 23\u001b[39m\n\u001b[32m     21\u001b[39m \u001b[38;5;28;01mfor\u001b[39;00m csv_file \u001b[38;5;129;01min\u001b[39;00m csv_files:\n\u001b[32m     22\u001b[39m     mat_file = os.path.join(output_folder, os.path.basename(csv_file).replace(\u001b[33m\"\u001b[39m\u001b[33m.csv\u001b[39m\u001b[33m\"\u001b[39m, \u001b[33m\"\u001b[39m\u001b[33m.mat\u001b[39m\u001b[33m\"\u001b[39m))\n\u001b[32m---> \u001b[39m\u001b[32m23\u001b[39m     \u001b[43mcsv_to_mat\u001b[49m\u001b[43m(\u001b[49m\u001b[43mcsv_file\u001b[49m\u001b[43m,\u001b[49m\u001b[43m \u001b[49m\u001b[43mmat_file\u001b[49m\u001b[43m)\u001b[49m\n",
      "\u001b[36mCell\u001b[39m\u001b[36m \u001b[39m\u001b[32mIn[10]\u001b[39m\u001b[32m, line 9\u001b[39m, in \u001b[36mcsv_to_mat\u001b[39m\u001b[34m(csv_filename, mat_filename)\u001b[39m\n\u001b[32m      7\u001b[39m df = pd.read_csv(csv_filename)  \u001b[38;5;66;03m# Read CSV\u001b[39;00m\n\u001b[32m      8\u001b[39m data_dict = {\u001b[33m'\u001b[39m\u001b[33mdata\u001b[39m\u001b[33m'\u001b[39m: df.to_numpy()}  \u001b[38;5;66;03m# Convert to dictionary\u001b[39;00m\n\u001b[32m----> \u001b[39m\u001b[32m9\u001b[39m \u001b[43mscipy\u001b[49m\u001b[43m.\u001b[49m\u001b[43mio\u001b[49m\u001b[43m.\u001b[49m\u001b[43msavemat\u001b[49m\u001b[43m(\u001b[49m\u001b[43mmat_filename\u001b[49m\u001b[43m,\u001b[49m\u001b[43m \u001b[49m\u001b[43mdata_dict\u001b[49m\u001b[43m)\u001b[49m  \u001b[38;5;66;03m# Save as .mat\u001b[39;00m\n\u001b[32m     10\u001b[39m \u001b[38;5;28mprint\u001b[39m(\u001b[33mf\u001b[39m\u001b[33m\"\u001b[39m\u001b[33mConverted \u001b[39m\u001b[38;5;132;01m{\u001b[39;00mcsv_filename\u001b[38;5;132;01m}\u001b[39;00m\u001b[33m -> \u001b[39m\u001b[38;5;132;01m{\u001b[39;00mmat_filename\u001b[38;5;132;01m}\u001b[39;00m\u001b[33m\"\u001b[39m)\n",
      "\u001b[36mFile \u001b[39m\u001b[32mc:\\Users\\mudit\\dev\\School\\ECS_1192_BatteryResearch\\Research\\Lib\\site-packages\\scipy\\io\\matlab\\_mio.py:314\u001b[39m, in \u001b[36msavemat\u001b[39m\u001b[34m(file_name, mdict, appendmat, format, long_field_names, do_compression, oned_as)\u001b[39m\n\u001b[32m    312\u001b[39m \u001b[38;5;28;01melse\u001b[39;00m:\n\u001b[32m    313\u001b[39m     \u001b[38;5;28;01mraise\u001b[39;00m \u001b[38;5;167;01mValueError\u001b[39;00m(\u001b[33m\"\u001b[39m\u001b[33mFormat should be \u001b[39m\u001b[33m'\u001b[39m\u001b[33m4\u001b[39m\u001b[33m'\u001b[39m\u001b[33m or \u001b[39m\u001b[33m'\u001b[39m\u001b[33m5\u001b[39m\u001b[33m'\u001b[39m\u001b[33m\"\u001b[39m)\n\u001b[32m--> \u001b[39m\u001b[32m314\u001b[39m \u001b[43mMW\u001b[49m\u001b[43m.\u001b[49m\u001b[43mput_variables\u001b[49m\u001b[43m(\u001b[49m\u001b[43mmdict\u001b[49m\u001b[43m)\u001b[49m\n",
      "\u001b[36mFile \u001b[39m\u001b[32mc:\\Users\\mudit\\dev\\School\\ECS_1192_BatteryResearch\\Research\\Lib\\site-packages\\scipy\\io\\matlab\\_mio5.py:895\u001b[39m, in \u001b[36mMatFile5Writer.put_variables\u001b[39m\u001b[34m(self, mdict, write_header)\u001b[39m\n\u001b[32m    893\u001b[39m     \u001b[38;5;28mself\u001b[39m.file_stream.write(out_str)\n\u001b[32m    894\u001b[39m \u001b[38;5;28;01melse\u001b[39;00m:  \u001b[38;5;66;03m# not compressing\u001b[39;00m\n\u001b[32m--> \u001b[39m\u001b[32m895\u001b[39m     \u001b[38;5;28;43mself\u001b[39;49m\u001b[43m.\u001b[49m\u001b[43m_matrix_writer\u001b[49m\u001b[43m.\u001b[49m\u001b[43mwrite_top\u001b[49m\u001b[43m(\u001b[49m\u001b[43mvar\u001b[49m\u001b[43m,\u001b[49m\u001b[43m \u001b[49m\u001b[43mname\u001b[49m\u001b[43m.\u001b[49m\u001b[43mencode\u001b[49m\u001b[43m(\u001b[49m\u001b[33;43m'\u001b[39;49m\u001b[33;43mlatin1\u001b[39;49m\u001b[33;43m'\u001b[39;49m\u001b[43m)\u001b[49m\u001b[43m,\u001b[49m\u001b[43m \u001b[49m\u001b[43mis_global\u001b[49m\u001b[43m)\u001b[49m\n",
      "\u001b[36mFile \u001b[39m\u001b[32mc:\\Users\\mudit\\dev\\School\\ECS_1192_BatteryResearch\\Research\\Lib\\site-packages\\scipy\\io\\matlab\\_mio5.py:637\u001b[39m, in \u001b[36mVarWriter5.write_top\u001b[39m\u001b[34m(self, arr, name, is_global)\u001b[39m\n\u001b[32m    635\u001b[39m \u001b[38;5;28mself\u001b[39m._var_name = name\n\u001b[32m    636\u001b[39m \u001b[38;5;66;03m# write the header and data\u001b[39;00m\n\u001b[32m--> \u001b[39m\u001b[32m637\u001b[39m \u001b[38;5;28;43mself\u001b[39;49m\u001b[43m.\u001b[49m\u001b[43mwrite\u001b[49m\u001b[43m(\u001b[49m\u001b[43marr\u001b[49m\u001b[43m)\u001b[49m\n",
      "\u001b[36mFile \u001b[39m\u001b[32mc:\\Users\\mudit\\dev\\School\\ECS_1192_BatteryResearch\\Research\\Lib\\site-packages\\scipy\\io\\matlab\\_mio5.py:667\u001b[39m, in \u001b[36mVarWriter5.write\u001b[39m\u001b[34m(self, arr)\u001b[39m\n\u001b[32m    665\u001b[39m     \u001b[38;5;28mself\u001b[39m.write_struct(narr)\n\u001b[32m    666\u001b[39m \u001b[38;5;28;01melif\u001b[39;00m narr.dtype.hasobject:  \u001b[38;5;66;03m# cell array\u001b[39;00m\n\u001b[32m--> \u001b[39m\u001b[32m667\u001b[39m     \u001b[38;5;28;43mself\u001b[39;49m\u001b[43m.\u001b[49m\u001b[43mwrite_cells\u001b[49m\u001b[43m(\u001b[49m\u001b[43mnarr\u001b[49m\u001b[43m)\u001b[49m\n\u001b[32m    668\u001b[39m \u001b[38;5;28;01melif\u001b[39;00m narr.dtype.kind \u001b[38;5;129;01min\u001b[39;00m (\u001b[33m'\u001b[39m\u001b[33mU\u001b[39m\u001b[33m'\u001b[39m, \u001b[33m'\u001b[39m\u001b[33mS\u001b[39m\u001b[33m'\u001b[39m):\n\u001b[32m    669\u001b[39m     \u001b[38;5;28;01mif\u001b[39;00m \u001b[38;5;28mself\u001b[39m.unicode_strings:\n",
      "\u001b[36mFile \u001b[39m\u001b[32mc:\\Users\\mudit\\dev\\School\\ECS_1192_BatteryResearch\\Research\\Lib\\site-packages\\scipy\\io\\matlab\\_mio5.py:772\u001b[39m, in \u001b[36mVarWriter5.write_cells\u001b[39m\u001b[34m(self, arr)\u001b[39m\n\u001b[32m    770\u001b[39m A = np.atleast_2d(arr).flatten(\u001b[33m'\u001b[39m\u001b[33mF\u001b[39m\u001b[33m'\u001b[39m)\n\u001b[32m    771\u001b[39m \u001b[38;5;28;01mfor\u001b[39;00m el \u001b[38;5;129;01min\u001b[39;00m A:\n\u001b[32m--> \u001b[39m\u001b[32m772\u001b[39m     \u001b[38;5;28;43mself\u001b[39;49m\u001b[43m.\u001b[49m\u001b[43mwrite\u001b[49m\u001b[43m(\u001b[49m\u001b[43mel\u001b[49m\u001b[43m)\u001b[49m\n",
      "\u001b[36mFile \u001b[39m\u001b[32mc:\\Users\\mudit\\dev\\School\\ECS_1192_BatteryResearch\\Research\\Lib\\site-packages\\scipy\\io\\matlab\\_mio5.py:676\u001b[39m, in \u001b[36mVarWriter5.write\u001b[39m\u001b[34m(self, arr)\u001b[39m\n\u001b[32m    674\u001b[39m \u001b[38;5;28;01melse\u001b[39;00m:\n\u001b[32m    675\u001b[39m     \u001b[38;5;28mself\u001b[39m.write_numeric(narr)\n\u001b[32m--> \u001b[39m\u001b[32m676\u001b[39m \u001b[38;5;28;43mself\u001b[39;49m\u001b[43m.\u001b[49m\u001b[43mupdate_matrix_tag\u001b[49m\u001b[43m(\u001b[49m\u001b[43mmat_tag_pos\u001b[49m\u001b[43m)\u001b[49m\n",
      "\u001b[36mFile \u001b[39m\u001b[32mc:\\Users\\mudit\\dev\\School\\ECS_1192_BatteryResearch\\Research\\Lib\\site-packages\\scipy\\io\\matlab\\_mio5.py:617\u001b[39m, in \u001b[36mVarWriter5.update_matrix_tag\u001b[39m\u001b[34m(self, start_pos)\u001b[39m\n\u001b[32m    615\u001b[39m \u001b[38;5;28mself\u001b[39m.mat_tag[\u001b[33m'\u001b[39m\u001b[33mbyte_count\u001b[39m\u001b[33m'\u001b[39m] = byte_count\n\u001b[32m    616\u001b[39m \u001b[38;5;28mself\u001b[39m.write_bytes(\u001b[38;5;28mself\u001b[39m.mat_tag)\n\u001b[32m--> \u001b[39m\u001b[32m617\u001b[39m \u001b[38;5;28;43mself\u001b[39;49m\u001b[43m.\u001b[49m\u001b[43mfile_stream\u001b[49m\u001b[43m.\u001b[49m\u001b[43mseek\u001b[49m\u001b[43m(\u001b[49m\u001b[43mcurr_pos\u001b[49m\u001b[43m)\u001b[49m\n",
      "\u001b[31mKeyboardInterrupt\u001b[39m: "
     ]
    }
   ],
   "source": [
    "import pandas as pd\n",
    "import scipy.io\n",
    "import os\n",
    "import glob\n",
    "\n",
    "def csv_to_mat(csv_filename, mat_filename):\n",
    "    df = pd.read_csv(csv_filename)  # Read CSV\n",
    "    data_dict = {'data': df.to_numpy()}  # Convert to dictionary\n",
    "    scipy.io.savemat(mat_filename, data_dict)  # Save as .mat\n",
    "    print(f\"Converted {csv_filename} -> {mat_filename}\")\n",
    "\n",
    "input_folder = \"battery/SNL_LFP\"\n",
    "output_folder = \"battery_mat/updated_dataset\"\n",
    "\n",
    "# Create output folder if it doesn't exist\n",
    "os.makedirs(output_folder, exist_ok=True)\n",
    "\n",
    "# Convert all CSV files in the input folder\n",
    "csv_files = glob.glob(os.path.join(input_folder, \"*.csv\"))\n",
    "\n",
    "for csv_file in csv_files:\n",
    "    mat_file = os.path.join(output_folder, os.path.basename(csv_file).replace(\".csv\", \".mat\"))\n",
    "    csv_to_mat(csv_file, mat_file)\n"
   ]
  },
  {
   "cell_type": "code",
   "execution_count": 11,
   "metadata": {},
   "outputs": [
    {
     "name": "stdout",
     "output_type": "stream",
     "text": [
      "Converted battery/SNL_LFP\\SNL_18650_LFP_15C_0-100_0.5-1C_a_cycle_data.csv -> battery_mat/updated_dataset\\SNL_18650_LFP_15C_0-100_0.5-1C_a_cycle_data_cycle.mat\n"
     ]
    },
    {
     "ename": "KeyError",
     "evalue": "\"None of [Index(['cycle', 'time', 'current', 'voltage', 'cell temperature'], dtype='object')] are in the [columns]\"",
     "output_type": "error",
     "traceback": [
      "\u001b[31m---------------------------------------------------------------------------\u001b[39m",
      "\u001b[31mKeyError\u001b[39m                                  Traceback (most recent call last)",
      "\u001b[36mCell\u001b[39m\u001b[36m \u001b[39m\u001b[32mIn[11]\u001b[39m\u001b[32m, line 35\u001b[39m\n\u001b[32m     33\u001b[39m \u001b[38;5;28;01mif\u001b[39;00m \u001b[33m\"\u001b[39m\u001b[33mtimeseries\u001b[39m\u001b[33m\"\u001b[39m \u001b[38;5;129;01min\u001b[39;00m filename.lower():\n\u001b[32m     34\u001b[39m     mat_file = os.path.join(output_folder, filename.replace(\u001b[33m\"\u001b[39m\u001b[33m.csv\u001b[39m\u001b[33m\"\u001b[39m, \u001b[33m\"\u001b[39m\u001b[33m_timeseries.mat\u001b[39m\u001b[33m\"\u001b[39m))\n\u001b[32m---> \u001b[39m\u001b[32m35\u001b[39m     \u001b[43mcsv_to_mat\u001b[49m\u001b[43m(\u001b[49m\u001b[43mcsv_file\u001b[49m\u001b[43m,\u001b[49m\u001b[43m \u001b[49m\u001b[43mmat_file\u001b[49m\u001b[43m,\u001b[49m\u001b[43m \u001b[49m\u001b[43mcolumns\u001b[49m\u001b[43m=\u001b[49m\u001b[43mtimeseries_columns\u001b[49m\u001b[43m)\u001b[49m\n\u001b[32m     37\u001b[39m \u001b[38;5;66;03m# If it's a cycle file, store the entire dataset\u001b[39;00m\n\u001b[32m     38\u001b[39m \u001b[38;5;28;01melif\u001b[39;00m \u001b[33m\"\u001b[39m\u001b[33mcycle\u001b[39m\u001b[33m\"\u001b[39m \u001b[38;5;129;01min\u001b[39;00m filename.lower():\n",
      "\u001b[36mCell\u001b[39m\u001b[36m \u001b[39m\u001b[32mIn[11]\u001b[39m\u001b[32m, line 11\u001b[39m, in \u001b[36mcsv_to_mat\u001b[39m\u001b[34m(csv_filename, mat_filename, columns)\u001b[39m\n\u001b[32m      8\u001b[39m df = pd.read_csv(csv_filename)\n\u001b[32m     10\u001b[39m \u001b[38;5;28;01mif\u001b[39;00m columns:\n\u001b[32m---> \u001b[39m\u001b[32m11\u001b[39m     df = \u001b[43mdf\u001b[49m\u001b[43m[\u001b[49m\u001b[43mcolumns\u001b[49m\u001b[43m]\u001b[49m  \u001b[38;5;66;03m# Select only required columns\u001b[39;00m\n\u001b[32m     13\u001b[39m data_dict = {\u001b[33m'\u001b[39m\u001b[33mdata\u001b[39m\u001b[33m'\u001b[39m: df.to_numpy()}  \u001b[38;5;66;03m# Convert to dictionary\u001b[39;00m\n\u001b[32m     14\u001b[39m scipy.io.savemat(mat_filename, data_dict)  \u001b[38;5;66;03m# Save as .mat\u001b[39;00m\n",
      "\u001b[36mFile \u001b[39m\u001b[32mc:\\Users\\mudit\\dev\\School\\ECS_1192_BatteryResearch\\Research\\Lib\\site-packages\\pandas\\core\\frame.py:4108\u001b[39m, in \u001b[36mDataFrame.__getitem__\u001b[39m\u001b[34m(self, key)\u001b[39m\n\u001b[32m   4106\u001b[39m     \u001b[38;5;28;01mif\u001b[39;00m is_iterator(key):\n\u001b[32m   4107\u001b[39m         key = \u001b[38;5;28mlist\u001b[39m(key)\n\u001b[32m-> \u001b[39m\u001b[32m4108\u001b[39m     indexer = \u001b[38;5;28;43mself\u001b[39;49m\u001b[43m.\u001b[49m\u001b[43mcolumns\u001b[49m\u001b[43m.\u001b[49m\u001b[43m_get_indexer_strict\u001b[49m\u001b[43m(\u001b[49m\u001b[43mkey\u001b[49m\u001b[43m,\u001b[49m\u001b[43m \u001b[49m\u001b[33;43m\"\u001b[39;49m\u001b[33;43mcolumns\u001b[39;49m\u001b[33;43m\"\u001b[39;49m\u001b[43m)\u001b[49m[\u001b[32m1\u001b[39m]\n\u001b[32m   4110\u001b[39m \u001b[38;5;66;03m# take() does not accept boolean indexers\u001b[39;00m\n\u001b[32m   4111\u001b[39m \u001b[38;5;28;01mif\u001b[39;00m \u001b[38;5;28mgetattr\u001b[39m(indexer, \u001b[33m\"\u001b[39m\u001b[33mdtype\u001b[39m\u001b[33m\"\u001b[39m, \u001b[38;5;28;01mNone\u001b[39;00m) == \u001b[38;5;28mbool\u001b[39m:\n",
      "\u001b[36mFile \u001b[39m\u001b[32mc:\\Users\\mudit\\dev\\School\\ECS_1192_BatteryResearch\\Research\\Lib\\site-packages\\pandas\\core\\indexes\\base.py:6200\u001b[39m, in \u001b[36mIndex._get_indexer_strict\u001b[39m\u001b[34m(self, key, axis_name)\u001b[39m\n\u001b[32m   6197\u001b[39m \u001b[38;5;28;01melse\u001b[39;00m:\n\u001b[32m   6198\u001b[39m     keyarr, indexer, new_indexer = \u001b[38;5;28mself\u001b[39m._reindex_non_unique(keyarr)\n\u001b[32m-> \u001b[39m\u001b[32m6200\u001b[39m \u001b[38;5;28;43mself\u001b[39;49m\u001b[43m.\u001b[49m\u001b[43m_raise_if_missing\u001b[49m\u001b[43m(\u001b[49m\u001b[43mkeyarr\u001b[49m\u001b[43m,\u001b[49m\u001b[43m \u001b[49m\u001b[43mindexer\u001b[49m\u001b[43m,\u001b[49m\u001b[43m \u001b[49m\u001b[43maxis_name\u001b[49m\u001b[43m)\u001b[49m\n\u001b[32m   6202\u001b[39m keyarr = \u001b[38;5;28mself\u001b[39m.take(indexer)\n\u001b[32m   6203\u001b[39m \u001b[38;5;28;01mif\u001b[39;00m \u001b[38;5;28misinstance\u001b[39m(key, Index):\n\u001b[32m   6204\u001b[39m     \u001b[38;5;66;03m# GH 42790 - Preserve name from an Index\u001b[39;00m\n",
      "\u001b[36mFile \u001b[39m\u001b[32mc:\\Users\\mudit\\dev\\School\\ECS_1192_BatteryResearch\\Research\\Lib\\site-packages\\pandas\\core\\indexes\\base.py:6249\u001b[39m, in \u001b[36mIndex._raise_if_missing\u001b[39m\u001b[34m(self, key, indexer, axis_name)\u001b[39m\n\u001b[32m   6247\u001b[39m \u001b[38;5;28;01mif\u001b[39;00m nmissing:\n\u001b[32m   6248\u001b[39m     \u001b[38;5;28;01mif\u001b[39;00m nmissing == \u001b[38;5;28mlen\u001b[39m(indexer):\n\u001b[32m-> \u001b[39m\u001b[32m6249\u001b[39m         \u001b[38;5;28;01mraise\u001b[39;00m \u001b[38;5;167;01mKeyError\u001b[39;00m(\u001b[33mf\u001b[39m\u001b[33m\"\u001b[39m\u001b[33mNone of [\u001b[39m\u001b[38;5;132;01m{\u001b[39;00mkey\u001b[38;5;132;01m}\u001b[39;00m\u001b[33m] are in the [\u001b[39m\u001b[38;5;132;01m{\u001b[39;00maxis_name\u001b[38;5;132;01m}\u001b[39;00m\u001b[33m]\u001b[39m\u001b[33m\"\u001b[39m)\n\u001b[32m   6251\u001b[39m     not_found = \u001b[38;5;28mlist\u001b[39m(ensure_index(key)[missing_mask.nonzero()[\u001b[32m0\u001b[39m]].unique())\n\u001b[32m   6252\u001b[39m     \u001b[38;5;28;01mraise\u001b[39;00m \u001b[38;5;167;01mKeyError\u001b[39;00m(\u001b[33mf\u001b[39m\u001b[33m\"\u001b[39m\u001b[38;5;132;01m{\u001b[39;00mnot_found\u001b[38;5;132;01m}\u001b[39;00m\u001b[33m not in index\u001b[39m\u001b[33m\"\u001b[39m)\n",
      "\u001b[31mKeyError\u001b[39m: \"None of [Index(['cycle', 'time', 'current', 'voltage', 'cell temperature'], dtype='object')] are in the [columns]\""
     ]
    }
   ],
   "source": [
    "import pandas as pd\n",
    "import scipy.io\n",
    "import os\n",
    "import glob\n",
    "\n",
    "def csv_to_mat(csv_filename, mat_filename, columns=None):\n",
    "    \"\"\"Convert a CSV file to .mat format while selecting specific columns.\"\"\"\n",
    "    df = pd.read_csv(csv_filename)\n",
    "\n",
    "    if columns:\n",
    "        df = df[columns]  # Select only required columns\n",
    "\n",
    "    data_dict = {'data': df.to_numpy()}  # Convert to dictionary\n",
    "    scipy.io.savemat(mat_filename, data_dict)  # Save as .mat\n",
    "    print(f\"Converted {csv_filename} -> {mat_filename}\")\n",
    "\n",
    "input_folder = \"battery/SNL_LFP\"\n",
    "output_folder = \"battery_mat/updated_dataset\"\n",
    "\n",
    "# Create output folder if it doesn't exist\n",
    "os.makedirs(output_folder, exist_ok=True)\n",
    "\n",
    "# List of CSV files (both cycle and timeseries data)\n",
    "csv_files = glob.glob(os.path.join(input_folder, \"*.csv\"))\n",
    "\n",
    "# Define relevant columns for timeseries data\n",
    "timeseries_columns = [\"cycle\", \"time\", \"current\", \"voltage\", \"cell temperature\"]\n",
    "\n",
    "for csv_file in csv_files:\n",
    "    filename = os.path.basename(csv_file)\n",
    "\n",
    "    # If it's a timeseries file, select only the relevant columns\n",
    "    if \"timeseries\" in filename.lower():\n",
    "        mat_file = os.path.join(output_folder, filename.replace(\".csv\", \"_timeseries.mat\"))\n",
    "        csv_to_mat(csv_file, mat_file, columns=timeseries_columns)\n",
    "\n",
    "    # If it's a cycle file, store the entire dataset\n",
    "    elif \"cycle\" in filename.lower():\n",
    "        mat_file = os.path.join(output_folder, filename.replace(\".csv\", \"_cycle.mat\"))\n",
    "        csv_to_mat(csv_file, mat_file)\n",
    "\n",
    "print(\"Processing complete for all battery data!\")\n"
   ]
  },
  {
   "cell_type": "code",
   "execution_count": 12,
   "metadata": {},
   "outputs": [
    {
     "name": "stdout",
     "output_type": "stream",
     "text": [
      "Files with missing columns:\n",
      "SNL_18650_LFP_15C_0-100_0.5-1C_a_cycle_data.csv: Missing columns -> ['cycle', 'time', 'current', 'voltage', 'cell temperature']\n",
      "SNL_18650_LFP_15C_0-100_0.5-1C_a_timeseries.csv: Missing columns -> ['cycle', 'time', 'current', 'voltage', 'cell temperature']\n",
      "SNL_18650_LFP_15C_0-100_0.5-1C_b_cycle_data.csv: Missing columns -> ['cycle', 'time', 'current', 'voltage', 'cell temperature']\n",
      "SNL_18650_LFP_15C_0-100_0.5-1C_b_timeseries.csv: Missing columns -> ['cycle', 'time', 'current', 'voltage', 'cell temperature']\n",
      "SNL_18650_LFP_15C_0-100_0.5-2C_a_cycle_data.csv: Missing columns -> ['cycle', 'time', 'current', 'voltage', 'cell temperature']\n",
      "SNL_18650_LFP_15C_0-100_0.5-2C_a_timeseries.csv: Missing columns -> ['cycle', 'time', 'current', 'voltage', 'cell temperature']\n",
      "SNL_18650_LFP_15C_0-100_0.5-2C_b_cycle_data.csv: Missing columns -> ['cycle', 'time', 'current', 'voltage', 'cell temperature']\n",
      "SNL_18650_LFP_15C_0-100_0.5-2C_b_timeseries.csv: Missing columns -> ['cycle', 'time', 'current', 'voltage', 'cell temperature']\n",
      "SNL_18650_LFP_25C_0-100_0.5-0.5C_a_cycle_data.csv: Missing columns -> ['cycle', 'time', 'current', 'voltage', 'cell temperature']\n",
      "SNL_18650_LFP_25C_0-100_0.5-0.5C_a_timeseries.csv: Missing columns -> ['cycle', 'time', 'current', 'voltage', 'cell temperature']\n",
      "SNL_18650_LFP_25C_0-100_0.5-1C_a_cycle_data.csv: Missing columns -> ['cycle', 'time', 'current', 'voltage', 'cell temperature']\n",
      "SNL_18650_LFP_25C_0-100_0.5-1C_a_timeseries.csv: Missing columns -> ['cycle', 'time', 'current', 'voltage', 'cell temperature']\n",
      "SNL_18650_LFP_25C_0-100_0.5-1C_b_cycle_data.csv: Missing columns -> ['cycle', 'time', 'current', 'voltage', 'cell temperature']\n",
      "SNL_18650_LFP_25C_0-100_0.5-1C_b_timeseries.csv: Missing columns -> ['cycle', 'time', 'current', 'voltage', 'cell temperature']\n",
      "SNL_18650_LFP_25C_0-100_0.5-1C_c_cycle_data.csv: Missing columns -> ['cycle', 'time', 'current', 'voltage', 'cell temperature']\n",
      "SNL_18650_LFP_25C_0-100_0.5-1C_c_timeseries.csv: Missing columns -> ['cycle', 'time', 'current', 'voltage', 'cell temperature']\n",
      "SNL_18650_LFP_25C_0-100_0.5-1C_d_cycle_data.csv: Missing columns -> ['cycle', 'time', 'current', 'voltage', 'cell temperature']\n",
      "SNL_18650_LFP_25C_0-100_0.5-1C_d_timeseries.csv: Missing columns -> ['cycle', 'time', 'current', 'voltage', 'cell temperature']\n",
      "SNL_18650_LFP_25C_0-100_0.5-2C_a_cycle_data.csv: Missing columns -> ['cycle', 'time', 'current', 'voltage', 'cell temperature']\n",
      "SNL_18650_LFP_25C_0-100_0.5-2C_a_timeseries.csv: Missing columns -> ['cycle', 'time', 'current', 'voltage', 'cell temperature']\n",
      "SNL_18650_LFP_25C_0-100_0.5-2C_b_cycle_data.csv: Missing columns -> ['cycle', 'time', 'current', 'voltage', 'cell temperature']\n",
      "SNL_18650_LFP_25C_0-100_0.5-2C_b_timeseries.csv: Missing columns -> ['cycle', 'time', 'current', 'voltage', 'cell temperature']\n",
      "SNL_18650_LFP_25C_0-100_0.5-3C_a_cycle_data.csv: Missing columns -> ['cycle', 'time', 'current', 'voltage', 'cell temperature']\n",
      "SNL_18650_LFP_25C_0-100_0.5-3C_a_timeseries.csv: Missing columns -> ['cycle', 'time', 'current', 'voltage', 'cell temperature']\n",
      "SNL_18650_LFP_25C_0-100_0.5-3C_b_cycle_data.csv: Missing columns -> ['cycle', 'time', 'current', 'voltage', 'cell temperature']\n",
      "SNL_18650_LFP_25C_0-100_0.5-3C_b_timeseries.csv: Missing columns -> ['cycle', 'time', 'current', 'voltage', 'cell temperature']\n",
      "SNL_18650_LFP_25C_0-100_0.5-3C_c_cycle_data.csv: Missing columns -> ['cycle', 'time', 'current', 'voltage', 'cell temperature']\n",
      "SNL_18650_LFP_25C_0-100_0.5-3C_c_timeseries.csv: Missing columns -> ['cycle', 'time', 'current', 'voltage', 'cell temperature']\n",
      "SNL_18650_LFP_25C_0-100_0.5-3C_d_cycle_data.csv: Missing columns -> ['cycle', 'time', 'current', 'voltage', 'cell temperature']\n",
      "SNL_18650_LFP_25C_0-100_0.5-3C_d_timeseries.csv: Missing columns -> ['cycle', 'time', 'current', 'voltage', 'cell temperature']\n",
      "SNL_18650_LFP_25C_20-80_0.5-0.5C_a_cycle_data.csv: Missing columns -> ['cycle', 'time', 'current', 'voltage', 'cell temperature']\n",
      "SNL_18650_LFP_25C_20-80_0.5-0.5C_a_timeseries.csv: Missing columns -> ['cycle', 'time', 'current', 'voltage', 'cell temperature']\n",
      "SNL_18650_LFP_25C_20-80_0.5-0.5C_b_cycle_data.csv: Missing columns -> ['cycle', 'time', 'current', 'voltage', 'cell temperature']\n",
      "SNL_18650_LFP_25C_20-80_0.5-0.5C_b_timeseries.csv: Missing columns -> ['cycle', 'time', 'current', 'voltage', 'cell temperature']\n",
      "SNL_18650_LFP_25C_20-80_0.5-0.5C_c_cycle_data.csv: Missing columns -> ['cycle', 'time', 'current', 'voltage', 'cell temperature']\n",
      "SNL_18650_LFP_25C_20-80_0.5-0.5C_c_timeseries.csv: Missing columns -> ['cycle', 'time', 'current', 'voltage', 'cell temperature']\n",
      "SNL_18650_LFP_25C_20-80_0.5-0.5C_d_cycle_data.csv: Missing columns -> ['cycle', 'time', 'current', 'voltage', 'cell temperature']\n",
      "SNL_18650_LFP_25C_20-80_0.5-0.5C_d_timeseries.csv: Missing columns -> ['cycle', 'time', 'current', 'voltage', 'cell temperature']\n",
      "SNL_18650_LFP_25C_20-80_0.5-3C_a_cycle_data.csv: Missing columns -> ['cycle', 'time', 'current', 'voltage', 'cell temperature']\n",
      "SNL_18650_LFP_25C_20-80_0.5-3C_a_timeseries.csv: Missing columns -> ['cycle', 'time', 'current', 'voltage', 'cell temperature']\n",
      "SNL_18650_LFP_25C_40-60_0.5-0.5C_a_cycle_data.csv: Missing columns -> ['cycle', 'time', 'current', 'voltage', 'cell temperature']\n",
      "SNL_18650_LFP_25C_40-60_0.5-0.5C_a_timeseries.csv: Missing columns -> ['cycle', 'time', 'current', 'voltage', 'cell temperature']\n",
      "SNL_18650_LFP_25C_40-60_0.5-0.5C_b_cycle_data.csv: Missing columns -> ['cycle', 'time', 'current', 'voltage', 'cell temperature']\n",
      "SNL_18650_LFP_25C_40-60_0.5-0.5C_b_timeseries.csv: Missing columns -> ['cycle', 'time', 'current', 'voltage', 'cell temperature']\n",
      "SNL_18650_LFP_25C_40-60_0.5-3C_a_cycle_data.csv: Missing columns -> ['cycle', 'time', 'current', 'voltage', 'cell temperature']\n",
      "SNL_18650_LFP_25C_40-60_0.5-3C_a_timeseries.csv: Missing columns -> ['cycle', 'time', 'current', 'voltage', 'cell temperature']\n",
      "SNL_18650_LFP_25C_40-60_0.5-3C_b_cycle_data.csv: Missing columns -> ['cycle', 'time', 'current', 'voltage', 'cell temperature']\n",
      "SNL_18650_LFP_25C_40-60_0.5-3C_b_timeseries.csv: Missing columns -> ['cycle', 'time', 'current', 'voltage', 'cell temperature']\n",
      "SNL_18650_LFP_35C_0-100_0.5-1C_a_cycle_data.csv: Missing columns -> ['cycle', 'time', 'current', 'voltage', 'cell temperature']\n",
      "SNL_18650_LFP_35C_0-100_0.5-1C_a_timeseries.csv: Missing columns -> ['cycle', 'time', 'current', 'voltage', 'cell temperature']\n",
      "SNL_18650_LFP_35C_0-100_0.5-1C_b_cycle_data.csv: Missing columns -> ['cycle', 'time', 'current', 'voltage', 'cell temperature']\n",
      "SNL_18650_LFP_35C_0-100_0.5-1C_b_timeseries.csv: Missing columns -> ['cycle', 'time', 'current', 'voltage', 'cell temperature']\n",
      "SNL_18650_LFP_35C_0-100_0.5-1C_c_cycle_data.csv: Missing columns -> ['cycle', 'time', 'current', 'voltage', 'cell temperature']\n",
      "SNL_18650_LFP_35C_0-100_0.5-1C_c_timeseries.csv: Missing columns -> ['cycle', 'time', 'current', 'voltage', 'cell temperature']\n",
      "SNL_18650_LFP_35C_0-100_0.5-1C_d_cycle_data.csv: Missing columns -> ['cycle', 'time', 'current', 'voltage', 'cell temperature']\n",
      "SNL_18650_LFP_35C_0-100_0.5-1C_d_timeseries.csv: Missing columns -> ['cycle', 'time', 'current', 'voltage', 'cell temperature']\n",
      "SNL_18650_LFP_35C_0-100_0.5-2C_a_cycle_data.csv: Missing columns -> ['cycle', 'time', 'current', 'voltage', 'cell temperature']\n",
      "SNL_18650_LFP_35C_0-100_0.5-2C_a_timeseries.csv: Missing columns -> ['cycle', 'time', 'current', 'voltage', 'cell temperature']\n",
      "SNL_18650_LFP_35C_0-100_0.5-2C_b_cycle_data.csv: Missing columns -> ['cycle', 'time', 'current', 'voltage', 'cell temperature']\n",
      "SNL_18650_LFP_35C_0-100_0.5-2C_b_timeseries.csv: Missing columns -> ['cycle', 'time', 'current', 'voltage', 'cell temperature']\n"
     ]
    }
   ],
   "source": [
    "import pandas as pd\n",
    "import os\n",
    "import glob\n",
    "\n",
    "input_folder = \"battery/SNL_LFP\"\n",
    "\n",
    "# Define required columns for timeseries data\n",
    "required_columns = [\"cycle\", \"time\", \"current\", \"voltage\", \"cell temperature\"]\n",
    "\n",
    "# List all CSV files\n",
    "csv_files = glob.glob(os.path.join(input_folder, \"*.csv\"))\n",
    "\n",
    "# Track files with missing columns\n",
    "files_with_issues = {}\n",
    "\n",
    "for csv_file in csv_files:\n",
    "    filename = os.path.basename(csv_file)\n",
    "    df = pd.read_csv(csv_file, nrows=5)  # Read only first 5 rows to check structure\n",
    "    \n",
    "    missing_columns = [col for col in required_columns if col not in df.columns]\n",
    "    \n",
    "    if missing_columns:\n",
    "        files_with_issues[filename] = missing_columns\n",
    "\n",
    "# Print the files that have issues\n",
    "if files_with_issues:\n",
    "    print(\"Files with missing columns:\")\n",
    "    for file, missing in files_with_issues.items():\n",
    "        print(f\"{file}: Missing columns -> {missing}\")\n",
    "else:\n",
    "    print(\"All files have the required columns!\")\n",
    "\n"
   ]
  },
  {
   "cell_type": "code",
   "execution_count": 4,
   "metadata": {},
   "outputs": [
    {
     "name": "stdout",
     "output_type": "stream",
     "text": [
      "Collecting scipy\n",
      "  Using cached scipy-1.15.2-cp312-cp312-win_amd64.whl.metadata (60 kB)\n",
      "Requirement already satisfied: numpy<2.5,>=1.23.5 in c:\\users\\mudit\\dev\\school\\ecs_1192_batteryresearch\\research\\lib\\site-packages (from scipy) (2.2.3)\n",
      "Using cached scipy-1.15.2-cp312-cp312-win_amd64.whl (40.9 MB)\n",
      "Installing collected packages: scipy\n",
      "Successfully installed scipy-1.15.2\n",
      "Note: you may need to restart the kernel to use updated packages.\n"
     ]
    }
   ],
   "source": [
    "pip install scipy"
   ]
  }
 ],
 "metadata": {
  "kernelspec": {
   "display_name": "Research",
   "language": "python",
   "name": "python3"
  },
  "language_info": {
   "codemirror_mode": {
    "name": "ipython",
    "version": 3
   },
   "file_extension": ".py",
   "mimetype": "text/x-python",
   "name": "python",
   "nbconvert_exporter": "python",
   "pygments_lexer": "ipython3",
   "version": "3.12.0"
  }
 },
 "nbformat": 4,
 "nbformat_minor": 2
}
